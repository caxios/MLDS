{
  "nbformat": 4,
  "nbformat_minor": 0,
  "metadata": {
    "colab": {
      "provenance": [],
      "authorship_tag": "ABX9TyOFYpKA7xJN8wAYfrnlA2uO"
    },
    "kernelspec": {
      "name": "python3",
      "display_name": "Python 3"
    },
    "language_info": {
      "name": "python"
    }
  },
  "cells": [
    {
      "cell_type": "code",
      "execution_count": 1,
      "metadata": {
        "id": "j2j83Yz-oOYx"
      },
      "outputs": [],
      "source": [
        "# ㅌㅊ픁ㅊㅍ"
      ]
    },
    {
      "cell_type": "code",
      "source": [],
      "metadata": {
        "id": "11r3qEdloQOd"
      },
      "execution_count": null,
      "outputs": []
    }
  ]
}