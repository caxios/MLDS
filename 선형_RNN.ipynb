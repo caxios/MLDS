{
  "nbformat": 4,
  "nbformat_minor": 0,
  "metadata": {
    "colab": {
      "provenance": [],
      "authorship_tag": "ABX9TyPJpzoe99CQE612lo2gPX/l"
    },
    "kernelspec": {
      "name": "python3",
      "display_name": "Python 3"
    },
    "language_info": {
      "name": "python"
    }
  },
  "cells": [
    {
      "cell_type": "markdown",
      "source": [
        "작업중"
      ],
      "metadata": {
        "id": "vtPYSogH4GJy"
      }
    },
    {
      "cell_type": "code",
      "execution_count": 49,
      "metadata": {
        "id": "XeeO7b_9R7jM"
      },
      "outputs": [],
      "source": [
        "import jax\n",
        "import jax.numpy as jnp\n",
        "import numpy as np\n",
        "import torch\n",
        "import torch.nn as nn\n",
        "import torch.optim as optim\n",
        "from torch.utils.data import Dataset, DataLoader\n",
        "import numpy as np\n",
        "import random\n",
        "import yfinance as yf\n",
        "import pandas as pd\n",
        "\n",
        "device = \"cuda\" if torch.cuda.is_available() else \"cpu\""
      ]
    },
    {
      "cell_type": "code",
      "source": [
        "# 논문에 첨부된 간략한 구현\n",
        "# import jax\n",
        "# import jax.numpy as jnp\n",
        "# import numpy as np\n",
        "# parallel_scan = jax.lax.associative_scan\n",
        "\n",
        "# def lruforward(lru_parameters, input_sequence):\n",
        "#   \"\"\"Forward pass of the LRU layer. Output y and input_sequence are of shape (L, H).\"\"\"\n",
        "#   # All LRU parameters\n",
        "#   nu_log, theta_log, B_re, B_im, C_re, C_im, D, gamma_log = lru_parameters\n",
        "#   # Materializing the diagonal of Lambda and projections\n",
        "#   Lambda = jnp.exp(-jnp.exp(nu_log) + 1j * jnp.exp(theta_log))\n",
        "#   B_norm = (B_re + 1j * B_im) * jnp.expand_dims(jnp.exp(gamma_log), axis=-1)\n",
        "#   C = C_re + 1j * C_im\n",
        "#   # Running the LRU + output projection\n",
        "#   # For details on parallel scan, check discussion in Smith et al (2022).\n",
        "#   Lambda_elements = jnp.repeat(Lambda[None, ...], input_sequence.shape[0], axis=0)  # input_sequence.shape[0]\n",
        "#   Bu_elements = jax.vmap(lambda u: B_norm.T @ u)(input_sequence)\n",
        "#   elements = (Lambda_elements, Bu_elements)\n",
        "#   _, inner_states = parallel_scan(binary_operator_diag, elements)  # all x_k\n",
        "#   y = jax.vmap(lambda x, u: (C @ x).real + D * u)(inner_states, input_sequence)\n",
        "#   return y\n",
        "\n",
        "# def init_lru_parameters(N, H, r_min=0, r_max=1, max_phase=6.28):\n",
        "#   \"\"\"Initialize parameters of the LRU layer.\"\"\"\n",
        "#   # N: state dimension, H: model dimension\n",
        "#   # Initialization of Lambda is complex valued distributed uniformly on ring\n",
        "#   # between r_min and r_max, with phase in [0, max_phase].\n",
        "#   u1 = np.random.uniform(size=(N,))\n",
        "#   u2 = np.random.uniform(size=(N,))\n",
        "#   nu_log = np.log(-0.5 * np.log(u1 * (r_max**2 - r_min**2) + r_min**2))\n",
        "#   theta_log = np.log(max_phase * u2)\n",
        "#   # Glorot initialized Input/Output projection matrices\n",
        "#   B_re = np.random.normal(size=(N, H)) / np.sqrt(2 * H)\n",
        "#   # Normalization factor\n",
        "#   B_im = np.random.normal(size=(N, H)) / np.sqrt(2 * H)\n",
        "#   C_re = np.random.normal(size=(H, N)) / np.sqrt(N)\n",
        "#   C_im = np.random.normal(size=(H, N)) / np.sqrt(N)\n",
        "#   D = np.random.normal(size=(H,))\n",
        "#   diag_lambda = np.exp(-np.exp(nu_log) + 1j * np.exp(theta_log))\n",
        "#   gamma_log = np.log(np.sqrt(1 - np.abs(diag_lambda)**2))\n",
        "#   return nu_log, theta_log, B_re, B_im, C_re, C_im, D, gamma_log\n",
        "\n",
        "# def binary_operator_diag(element_i, element_j):\n",
        "#   # Binary operator for parallel scan of linear recurrence.\n",
        "#   a_i, bu_i = element_i\n",
        "#   a_j, bu_j = element_j\n",
        "#   return a_j * a_i, a_j * bu_i + bu_j"
      ],
      "metadata": {
        "id": "zXUdx3m5mVVC"
      },
      "execution_count": 66,
      "outputs": []
    },
    {
      "cell_type": "code",
      "source": [
        "def complex_mul(a_re, a_im, b_re, b_im):\n",
        "  # 복소수 곱셈\n",
        "  return a_re * b_re - a_im * b_im, a_re * b_im + a_im * b_re\n",
        "\n",
        "def lruforward(lru_parameters, input_sequence):\n",
        "  nu_log, theta_log, B_re, B_im, C_re, C_im, D, gamma_log = lru_parameters\n",
        "  L, H = input_sequence.shape\n",
        "  N = nu_log.shape[0]\n",
        "\n",
        "  lam_mag = torch.exp(-torch.exp(nu_log))\n",
        "  lam_phase = torch.exp(theta_log)\n",
        "  Lambda_re = lam_mag * torch.cos(lam_phase)\n",
        "  Lambda_im = lam_mag * torch.sin(lam_phase)\n",
        "\n",
        "  exp_gamma = torch.exp(gamma_log)\n",
        "  B_norm_re = B_re * exp_gamma.unsqueeze(-1)\n",
        "  B_norm_im = B_im * exp_gamma.unsqueeze(-1)\n",
        "\n",
        "  Bu_re = (input_sequence @ B_norm_re)\n",
        "  Bu_im = (input_sequence @ B_norm_im)\n",
        "\n",
        "  # 상태 업데이트\n",
        "  x_re = torch.zeros(N, device=input_sequence.device, dtype=torch.float32)\n",
        "  x_im = torch.zeros(N, device=input_sequence.device, dtype=torch.float32)\n",
        "  inner_states_re, inner_states_im = [], []\n",
        "  for k in range(L):\n",
        "    prod_re, prod_im = complex_mul(Lambda_re, Lambda_im, x_re, x_im)\n",
        "    x_re = prod_re + Bu_re[k]\n",
        "    x_im = prod_im + Bu_im[k]\n",
        "    inner_states_re.append(x_re)\n",
        "    inner_states_im.append(x_im)\n",
        "  inner_states_re = torch.stack(inner_states_re, dim=0)  # (L, N)\n",
        "  inner_states_im = torch.stack(inner_states_im, dim=0)  # (L, N)\n",
        "\n",
        "  # 최종 출력\n",
        "  y_list = []\n",
        "  for k in range(L):\n",
        "    # 복소수 행렬-벡터 곱\n",
        "    y_k = torch.matmul(C_re, inner_states_re[k]) - torch.matmul(C_im, inner_states_im[k])\n",
        "    y_list.append(y_k + D * input_sequence[k])\n",
        "    y = torch.stack(y_list, dim=0)  # (L, H)\n",
        "  return y\n",
        "\n",
        "def init_lru_parameters(N, H, r_min=0, r_max=1, max_phase=6.28):\n",
        "  \"\"\"\n",
        "  LRU layer 파라미터 초기화.\n",
        "  N: 상태(숨겨진) 차원, H: 모델 차원.\n",
        "  Lambda는 r_min과 r_max 사이의 링에 균일하게 분포하고, 위상은 [0, max_phase] 범위입니다.\n",
        "  \"\"\"\n",
        "  # 균일 분포: [0,1) 범위에서 샘플링\n",
        "  u1 = torch.rand(N)\n",
        "  u2 = torch.rand(N)\n",
        "  # nu_log = log(-0.5 * log(u1*(r_max^2 - r_min^2) + r_min^2))\n",
        "  nu_log = torch.log(-0.5 * torch.log(u1 * (r_max**2 - r_min**2) + r_min**2))\n",
        "  # theta_log = log(max_phase * u2)\n",
        "  theta_log = torch.log(max_phase * u2)\n",
        "\n",
        "  # Glorot 초기화, torch.randn으로 정규분포 샘플링\n",
        "  B_re = torch.randn(N, H) / torch.sqrt(torch.tensor(2 * H, dtype=torch.float32))\n",
        "  B_im = torch.randn(N, H) / torch.sqrt(torch.tensor(2 * H, dtype=torch.float32))\n",
        "  C_re = torch.randn(H, N) / torch.sqrt(torch.tensor(N, dtype=torch.float32))\n",
        "  C_im = torch.randn(H, N) / torch.sqrt(torch.tensor(N, dtype=torch.float32))\n",
        "  D = torch.randn(H)\n",
        "\n",
        "  # diag_lambda = exp(-exp(nu_log) + i * exp(theta_log))\n",
        "  diag_lambda = torch.exp(-torch.exp(nu_log) + 1j * torch.exp(theta_log))\n",
        "  # gamma_log = log(sqrt(1 - |diag_lambda|^2))\n",
        "  gamma_log = torch.log(torch.sqrt(1 - torch.abs(diag_lambda)**2))\n",
        "\n",
        "  return nu_log, theta_log, B_re, B_im, C_re, C_im, D, gamma_log"
      ],
      "metadata": {
        "id": "ZXK843Qt-WkT"
      },
      "execution_count": 89,
      "outputs": []
    },
    {
      "cell_type": "code",
      "source": [
        "class LRURNN(nn.Module):\n",
        "  def __init__(self, data, seq_len: int, input_size: int, hidden_size: int, output_size: int, batch_size: int) -> None:\n",
        "    super().__init__()\n",
        "    # self.seq_len = seq_len\n",
        "    self.input_size = input_size\n",
        "    self.hidden_size = hidden_size\n",
        "    self.output_size = output_size\n",
        "    self.batch_size = batch_size\n",
        "    self.i2h = nn.Linear(input_size, hidden_size, bias=False)\n",
        "    self.h2h = nn.Linear(hidden_size, hidden_size)\n",
        "    self.h2o = nn.Linear(hidden_size, output_size)\n",
        "    self.lru_params = init_lru_parameters(self.hidden_size, self.hidden_size)\n",
        "\n",
        "  def forward(self, x, hidden_state) -> tuple[torch.Tensor, torch.Tensor]:\n",
        "    x = self.i2h(x)\n",
        "    hidden_state = self.h2h(hidden_state)\n",
        "    # hidden_state_np = hidden_state.detach().cpu().numpy()\n",
        "    hidden_state = lruforward(lru_parameters=self.lru_params, input_sequence=hidden_state)\n",
        "    out = self.h2o(hidden_state)\n",
        "    return out, hidden_state\n",
        "\n",
        "  def init_zero_hidden(self, batch_size=1) -> torch.Tensor:\n",
        "    return torch.zeros(batch_size, self.hidden_size, requires_grad=False)"
      ],
      "metadata": {
        "id": "Oi9GKPSgcju9"
      },
      "execution_count": 91,
      "outputs": []
    },
    {
      "cell_type": "code",
      "source": [
        "def train(model: LRURNN, data: DataLoader, epochs: int, optimizer: optim.Optimizer, loss_fn: nn.Module) -> None:\n",
        "  train_losses = {}\n",
        "  model.to(device)\n",
        "\n",
        "  model.train()\n",
        "  print(\"=> Starting training\")\n",
        "  for epoch in range(epochs):\n",
        "    epoch_losses = list()\n",
        "    for X, Y in data:\n",
        "      if X.shape[0] != model.batch_size:\n",
        "        continue\n",
        "      hidden = model.init_zero_hidden(batch_size=model.batch_size)\n",
        "      X, Y, hidden = X.to(device), Y.to(device), hidden.to(device)\n",
        "      model.zero_grad()\n",
        "      loss = 0\n",
        "      for c in range((Y.shape[1])):\n",
        "        out, hidden = model(X[:, c].unsqueeze(1), hidden) # model(X[:, c].reshape(X.shape[0],1), hidden)\n",
        "        l = loss_fn(out, Y[:, c].unsqueeze(1).float())\n",
        "        loss += l\n",
        "      loss.backward()\n",
        "      nn.utils.clip_grad_norm_(model.parameters(), 3)\n",
        "      optimizer.step()\n",
        "\n",
        "      epoch_losses.append(loss.detach().item() / X.shape[1])\n",
        "    train_losses[epoch] = torch.tensor(epoch_losses).mean()\n",
        "    print(f'=> epoch: {epoch + 1}, loss: {train_losses[epoch]}')"
      ],
      "metadata": {
        "id": "L3cN1Eo7hDLk"
      },
      "execution_count": 99,
      "outputs": []
    },
    {
      "cell_type": "code",
      "source": [
        "ticker = \"AAPL\"\n",
        "start_date = \"2022-01-01\"\n",
        "end_date = \"2023-01-01\"\n",
        "stock = yf.Ticker(ticker)\n",
        "df = stock.history(start=start_date, end=end_date)\n",
        "df"
      ],
      "metadata": {
        "collapsed": true,
        "id": "eF2ahEqRn48T"
      },
      "execution_count": null,
      "outputs": []
    },
    {
      "cell_type": "code",
      "source": [
        "class TimeSeriesDataset(Dataset):\n",
        "  def __init__(self, data, seq_length):\n",
        "    self.data = data\n",
        "    self.seq_length = seq_length\n",
        "\n",
        "  def __len__(self):\n",
        "    return len(self.data) - self.seq_length\n",
        "\n",
        "  def __getitem__(self, idx):\n",
        "    X = self.data[idx:idx + self.seq_length]  # Input sequence\n",
        "    Y = self.data[idx + self.seq_length]  # Target sequence(1만큼 시프트)\n",
        "    return X, Y"
      ],
      "metadata": {
        "id": "zpHxPsE5t2G9"
      },
      "execution_count": 102,
      "outputs": []
    },
    {
      "cell_type": "code",
      "source": [
        "data = df.reset_index()\n",
        "data = df[['Open','High','Low','Close','Volume']]\n",
        "data = torch.Tensor(data.values)\n",
        "seq_length = 10\n",
        "input_size = data.shape[1]\n",
        "output_size = data.shape[1]\n",
        "batch_size = 16\n",
        "hidden_size = 32\n",
        "\n",
        "dataset = TimeSeriesDataset(data, seq_length)\n",
        "dataloader = DataLoader(dataset, batch_size)\n",
        "\n",
        "lrurnnModel = LRURNN(data=data, seq_len=seq_length, input_size=input_size, output_size=output_size, hidden_size=hidden_size, batch_size=batch_size)\n",
        "\n",
        "epochs = 1000\n",
        "loss = nn.MSELoss()\n",
        "optimizer = optim.RMSprop(lrurnnModel.parameters(), lr = 0.005)\n",
        "\n",
        "train(lrurnnModel, dataloader, epochs, optimizer, loss)"
      ],
      "metadata": {
        "id": "7lPbslnJj5fk"
      },
      "execution_count": null,
      "outputs": []
    },
    {
      "cell_type": "code",
      "source": [
        "33_377_541_423_104.0\n",
        "33_377_541_423_104.0\n",
        "37_784_945_426_432.0"
      ],
      "metadata": {
        "id": "a20nGgbLtCMt"
      },
      "execution_count": null,
      "outputs": []
    },
    {
      "cell_type": "code",
      "source": [
        "import matplotlib.pyplot as plt\n",
        "\n",
        "def evaluate_model(model, dataset):\n",
        "  model.eval()\n",
        "  predictions = []\n",
        "  ground_truth = []\n",
        "  dataloader = DataLoader(dataset, batch_size=1, shuffle=False) # 배치 1로 해서 시계열 유지\n",
        "  with torch.no_grad():\n",
        "    for x, y in dataloader:\n",
        "      hidden = model.init_zero_hidden(batch_size=x.size(0)).to(device)\n",
        "      x = x.to(device)\n",
        "      out, _ = model(x, hidden)\n",
        "      predictions.append(out.cpu().numpy().squeeze())\n",
        "      ground_truth.append(y.cpu().numpy().squeeze())\n",
        "  return np.array(predictions), np.array(ground_truth)"
      ],
      "metadata": {
        "id": "SQJrEpGQQVaM"
      },
      "execution_count": 105,
      "outputs": []
    },
    {
      "cell_type": "code",
      "source": [
        "evaluate_model(lrurnnModel, dataset)\n",
        "preds, truths = evaluate_model(lrurnnModel, dataset)\n",
        "feature_idx = 0\n",
        "\n",
        "plt.figure(figsize=(12, 6))\n",
        "plt.plot(truths[:, feature_idx], label=\"Ground Truth\")\n",
        "plt.plot(preds[:, feature_idx], label=\"Predictions\")\n",
        "plt.title(\"Model Predictions vs Ground Truth\")\n",
        "plt.xlabel(\"Time step\")\n",
        "plt.ylabel(\"Feature Value\")\n",
        "plt.legend()\n",
        "plt.show()"
      ],
      "metadata": {
        "colab": {
          "base_uri": "https://localhost:8080/",
          "height": 564
        },
        "id": "w8J9WcVdQagb",
        "outputId": "e6467999-81cc-4d91-aa19-689529c2ea2a"
      },
      "execution_count": 106,
      "outputs": [
        {
          "output_type": "display_data",
          "data": {
            "text/plain": [
              "<Figure size 1200x600 with 1 Axes>"
            ],
            "image/png": "[encoded data removed]"
          },
          "metadata": {}
        }
      ]
    },
    {
      "cell_type": "code",
      "source": [
        "preds"
      ],
      "metadata": {
        "colab": {
          "base_uri": "https://localhost:8080/"
        },
        "id": "Mw1pvbiXQjJW",
        "outputId": "1022210f-9833-44e2-d397-5f3c6f97fe36"
      },
      "execution_count": 109,
      "outputs": [
        {
          "output_type": "execute_result",
          "data": {
            "text/plain": [
              "array([[24.661018, 24.608793, 25.024075, 24.75819 , 24.974737],\n",
              "       [24.661018, 24.608793, 25.024075, 24.75819 , 24.974737],\n",
              "       [24.661018, 24.608793, 25.024075, 24.75819 , 24.974737],\n",
              "       ...,\n",
              "       [24.661018, 24.608793, 25.024075, 24.75819 , 24.974737],\n",
              "       [24.661018, 24.608793, 25.024075, 24.75819 , 24.974737],\n",
              "       [24.661018, 24.608793, 25.024075, 24.75819 , 24.974737]],\n",
              "      dtype=float32)"
            ]
          },
          "metadata": {},
          "execution_count": 109
        }
      ]
    },
    {
      "cell_type": "code",
      "source": [],
      "metadata": {
        "id": "f68_gKt-QrSd"
      },
      "execution_count": null,
      "outputs": []
    }
  ]
}